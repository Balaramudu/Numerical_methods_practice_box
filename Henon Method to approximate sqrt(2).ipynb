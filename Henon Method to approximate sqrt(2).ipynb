{
 "cells": [
  {
   "cell_type": "markdown",
   "id": "bc5f11ec",
   "metadata": {},
   "source": [
    "## Henon Method TO APPROXIMATE SQRT(2)"
   ]
  },
  {
   "cell_type": "code",
   "execution_count": 1,
   "id": "83044592",
   "metadata": {},
   "outputs": [],
   "source": [
    "#pip install matplotlib"
   ]
  },
  {
   "cell_type": "code",
   "execution_count": 2,
   "id": "f713d5ed",
   "metadata": {},
   "outputs": [
    {
     "name": "stdout",
     "output_type": "stream",
     "text": [
      "Enter the number to find its square : \n",
      "2\n",
      "1.414213562373095\n"
     ]
    }
   ],
   "source": [
    "arr1 = []\n",
    "arr2 = []\n",
    "def hsqrt(n):\n",
    "    a = 1.2 # choose some approximation \n",
    "    for i in range(0,1000):\n",
    "        arr1.append(a)\n",
    "        arr2.append(n/a)\n",
    "        a = ((1/2)*(a + (n/a)))\n",
    "        \n",
    "    return a\n",
    "print(\"Enter the number to find its square : \")\n",
    "n = int(input())\n",
    "print(hsqrt(n))"
   ]
  },
  {
   "cell_type": "code",
   "execution_count": 4,
   "id": "3736ff4d",
   "metadata": {},
   "outputs": [],
   "source": [
    "#from matplotlib import pyplot as plt\n",
    "#k = linspace(0,n,1)\n",
    "#plt.plot(k , arr1)\n",
    "#plt.plot(k,arr2)"
   ]
  },
  {
   "cell_type": "code",
   "execution_count": 6,
   "id": "1be77c88",
   "metadata": {},
   "outputs": [
    {
     "name": "stdout",
     "output_type": "stream",
     "text": [
      "1.4142135623730951\n"
     ]
    }
   ],
   "source": [
    "import math\n",
    "print(math.sqrt(2))"
   ]
  },
  {
   "cell_type": "code",
   "execution_count": null,
   "id": "1d1f905a",
   "metadata": {},
   "outputs": [],
   "source": []
  }
 ],
 "metadata": {
  "kernelspec": {
   "display_name": "Python 3 (ipykernel)",
   "language": "python",
   "name": "python3"
  },
  "language_info": {
   "codemirror_mode": {
    "name": "ipython",
    "version": 3
   },
   "file_extension": ".py",
   "mimetype": "text/x-python",
   "name": "python",
   "nbconvert_exporter": "python",
   "pygments_lexer": "ipython3",
   "version": "3.9.6"
  }
 },
 "nbformat": 4,
 "nbformat_minor": 5
}

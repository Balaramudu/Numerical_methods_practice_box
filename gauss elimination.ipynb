{
 "cells": [
  {
   "cell_type": "markdown",
   "id": "39b37de3",
   "metadata": {},
   "source": [
    "# Gauss Elimintion to solve system of linear equations"
   ]
  },
  {
   "cell_type": "code",
   "execution_count": 1,
   "id": "342b2f4e",
   "metadata": {},
   "outputs": [],
   "source": [
    "Ab = [[1, 2 ,3,10],[2, 3, 2,6] ,[3,2,6,7]]"
   ]
  },
  {
   "cell_type": "code",
   "execution_count": 2,
   "id": "982350da",
   "metadata": {},
   "outputs": [
    {
     "data": {
      "text/plain": [
       "4"
      ]
     },
     "execution_count": 2,
     "metadata": {},
     "output_type": "execute_result"
    }
   ],
   "source": [
    "Ab[1][1]+Ab[0][0]"
   ]
  },
  {
   "cell_type": "code",
   "execution_count": 3,
   "id": "4db522b1",
   "metadata": {},
   "outputs": [],
   "source": [
    "def gauss_elimination(Ab,n ,m):\n",
    "    for i in range(0, n-1):\n",
    "        for j in range(i+1, m):\n",
    "            a = (-Ab[j][i]/Ab[i][i])\n",
    "            for k in range(0, n+1):\n",
    "                Ab[j][k] = Ab[j][k] + a* Ab[i][k]\n",
    "    return Ab"
   ]
  },
  {
   "cell_type": "code",
   "execution_count": 4,
   "id": "3cee91d4",
   "metadata": {},
   "outputs": [
    {
     "data": {
      "text/plain": [
       "[[1, 2, 3, 10], [2, 3, 2, 6], [3, 2, 6, 7]]"
      ]
     },
     "execution_count": 4,
     "metadata": {},
     "output_type": "execute_result"
    }
   ],
   "source": [
    "Ab"
   ]
  },
  {
   "cell_type": "code",
   "execution_count": 5,
   "id": "ff5e93b4",
   "metadata": {},
   "outputs": [
    {
     "data": {
      "text/plain": [
       "[[1, 2, 3, 10], [0.0, -1.0, -4.0, -14.0], [0.0, 0.0, 13.0, 33.0]]"
      ]
     },
     "execution_count": 5,
     "metadata": {},
     "output_type": "execute_result"
    }
   ],
   "source": [
    "gauss_elimination(Ab, 3,3)\n"
   ]
  },
  {
   "cell_type": "code",
   "execution_count": 6,
   "id": "53145317",
   "metadata": {},
   "outputs": [
    {
     "data": {
      "text/plain": [
       "-3.8461538461538467"
      ]
     },
     "execution_count": 6,
     "metadata": {},
     "output_type": "execute_result"
    }
   ],
   "source": [
    "-14 + 4*(33/13)\n"
   ]
  },
  {
   "cell_type": "code",
   "execution_count": null,
   "id": "fc5b714f",
   "metadata": {},
   "outputs": [],
   "source": []
  },
  {
   "cell_type": "markdown",
   "id": "a930d765",
   "metadata": {},
   "source": [
    "## Back substitution after applying gauss elimination"
   ]
  },
  {
   "cell_type": "code",
   "execution_count": 7,
   "id": "0420259a",
   "metadata": {},
   "outputs": [],
   "source": [
    "\n",
    "def back_substitution(Ab,n):\n",
    "    arr = [0]*n\n",
    "    for i in range(n-1,-1,-1):\n",
    "        #print(\"i = \",i)\n",
    "        sum = 0\n",
    "        for k in range(i+1,n,1):\n",
    "            #print(\"k = \",k)\n",
    "            #print(\"Ab[i][k] = \",Ab[i][k])\n",
    "            #print(\"arr[k] = \",arr[k])\n",
    "            sum = sum + Ab[i][k]*arr[k]\n",
    "            #print(\"sum = \",sum)\n",
    "        #print(\"sum after k loop  = \", sum)\n",
    "        arr[i] = (Ab[i][-1] - sum)/Ab[i][i]\n",
    "        #print(\"arr[i] after k loop = \",arr[i])\n",
    "        \n",
    "    return arr\n",
    "\n",
    "\n",
    "        "
   ]
  },
  {
   "cell_type": "code",
   "execution_count": 8,
   "id": "f7e75bca",
   "metadata": {},
   "outputs": [
    {
     "name": "stdout",
     "output_type": "stream",
     "text": [
      "[-5.307692307692308, 3.8461538461538467, 2.5384615384615383]\n",
      "33.0\n",
      "33.0\n"
     ]
    }
   ],
   "source": [
    "solution_array = back_substitution(Ab,3)\n",
    "print(solution_array)\n",
    "s = 0\n",
    "for i in range(0,3):\n",
    "    s = s + Ab[2][i]*solution_array[i]\n",
    "print(s)\n",
    "print(Ab[2][-1])"
   ]
  },
  {
   "cell_type": "code",
   "execution_count": 9,
   "id": "e73162e8",
   "metadata": {},
   "outputs": [
    {
     "data": {
      "text/plain": [
       "2.5384615384615383"
      ]
     },
     "execution_count": 9,
     "metadata": {},
     "output_type": "execute_result"
    }
   ],
   "source": [
    "33/13\n"
   ]
  },
  {
   "cell_type": "code",
   "execution_count": null,
   "id": "e59123f1",
   "metadata": {},
   "outputs": [],
   "source": []
  },
  {
   "cell_type": "code",
   "execution_count": 10,
   "id": "34029d5c",
   "metadata": {},
   "outputs": [],
   "source": [
    "def gauss_elimination_solver(Ab,n):\n",
    "    Ab_echlon_form = gauss_elimination(Ab,n,n)\n",
    "    solution_set = back_substitution(Ab_echlon_form, n)\n",
    "    return solution_set"
   ]
  },
  {
   "cell_type": "code",
   "execution_count": 11,
   "id": "88b61a7b",
   "metadata": {},
   "outputs": [
    {
     "data": {
      "text/plain": [
       "[-5.307692307692308, 3.8461538461538467, 2.5384615384615383]"
      ]
     },
     "execution_count": 11,
     "metadata": {},
     "output_type": "execute_result"
    }
   ],
   "source": [
    "gauss_elimination_solver(Ab,3)"
   ]
  },
  {
   "cell_type": "code",
   "execution_count": 12,
   "id": "b94da34e",
   "metadata": {},
   "outputs": [],
   "source": [
    "Ab2 = [[1,2,19,1], [13,14,18,2],[19,24,56,4]]"
   ]
  },
  {
   "cell_type": "code",
   "execution_count": 13,
   "id": "414bf5e1",
   "metadata": {},
   "outputs": [],
   "source": [
    "solution_set2 = gauss_elimination_solver(Ab2,3)"
   ]
  },
  {
   "cell_type": "code",
   "execution_count": 14,
   "id": "50494245",
   "metadata": {
    "scrolled": false
   },
   "outputs": [
    {
     "data": {
      "text/plain": [
       "[0.2643171806167406, -0.17621145374449373, 0.05726872246696037]"
      ]
     },
     "execution_count": 14,
     "metadata": {},
     "output_type": "execute_result"
    }
   ],
   "source": [
    "solution_set2"
   ]
  },
  {
   "cell_type": "code",
   "execution_count": 15,
   "id": "1cec7114",
   "metadata": {},
   "outputs": [
    {
     "data": {
      "text/plain": [
       "4.000000000000003"
      ]
     },
     "execution_count": 15,
     "metadata": {},
     "output_type": "execute_result"
    }
   ],
   "source": [
    "#checking the solutions\n",
    "19*solution_set2[0] + 24*solution_set2[1] + 56*solution_set2[2]"
   ]
  },
  {
   "cell_type": "code",
   "execution_count": null,
   "id": "c01ba61c",
   "metadata": {},
   "outputs": [],
   "source": []
  },
  {
   "cell_type": "code",
   "execution_count": null,
   "id": "e306e0e2",
   "metadata": {},
   "outputs": [],
   "source": []
  },
  {
   "cell_type": "code",
   "execution_count": null,
   "id": "3f2300a7",
   "metadata": {},
   "outputs": [],
   "source": []
  },
  {
   "cell_type": "code",
   "execution_count": null,
   "id": "300728a8",
   "metadata": {},
   "outputs": [],
   "source": []
  },
  {
   "cell_type": "code",
   "execution_count": null,
   "id": "17af149d",
   "metadata": {},
   "outputs": [],
   "source": []
  }
 ],
 "metadata": {
  "kernelspec": {
   "display_name": "Python 3 (ipykernel)",
   "language": "python",
   "name": "python3"
  },
  "language_info": {
   "codemirror_mode": {
    "name": "ipython",
    "version": 3
   },
   "file_extension": ".py",
   "mimetype": "text/x-python",
   "name": "python",
   "nbconvert_exporter": "python",
   "pygments_lexer": "ipython3",
   "version": "3.9.6"
  }
 },
 "nbformat": 4,
 "nbformat_minor": 5
}
